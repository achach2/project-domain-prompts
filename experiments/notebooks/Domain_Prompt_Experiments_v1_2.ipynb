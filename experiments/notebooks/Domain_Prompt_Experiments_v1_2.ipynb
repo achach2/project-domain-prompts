{
  "cells": [
    {
      "cell_type": "markdown",
      "metadata": {
        "id": "4f749141"
      },
      "source": [
        "# Prompting Experiments for Instruction-Following LLMs\n",
        "\n",
        "This notebook implements a structured experimental plan to evaluate how different prompting strategies affect the output quality of large language models (LLMs).\n",
        "The task involves instruction-following responses based on context extracted from model development documents (MDDs), aligned with risk/compliance standards (e.g., SR 11-7).\n",
        "\n",
        "## Objectives\n",
        "- Compare prompting techniques such as zero-shot, few-shot, CoT, ReAct, and Tree-of-Thought.\n",
        "- Evaluate responses using criteria like relevancy, completeness, and specificity.\n",
        "- Use a common task format: instruction + MDD context → model-generated assessment.\n",
        "\n",
        "---\n",
        "\n"
      ]
    },
    {
      "cell_type": "code",
      "execution_count": null,
      "metadata": {
        "id": "2ezj2V8zHcRz"
      },
      "outputs": [],
      "source": []
    },
    {
      "cell_type": "markdown",
      "metadata": {
        "id": "BR6zSvAtviHp"
      },
      "source": []
    },
    {
      "cell_type": "markdown",
      "metadata": {
        "id": "sGSg4GwXviQ3"
      },
      "source": []
    },
    {
      "cell_type": "markdown",
      "metadata": {
        "id": "w3eQa51Yviai"
      },
      "source": []
    },
    {
      "cell_type": "code",
      "execution_count": null,
      "metadata": {
        "colab": {
          "base_uri": "https://localhost:8080/"
        },
        "id": "rZ3ObTUWOCab",
        "outputId": "cfed4316-a581-4466-d2e9-a317762a3ba1"
      },
      "outputs": [
        {
          "name": "stdout",
          "output_type": "stream",
          "text": [
            "Drive already mounted at /content/drive; to attempt to forcibly remount, call drive.mount(\"/content/drive\", force_remount=True).\n"
          ]
        }
      ],
      "source": [
        "# Mount Google Drive\n",
        "from google.colab import drive\n",
        "drive.mount('/content/drive')\n",
        "# drive.mount(\"/content/drive\", force_remount=True)"
      ]
    },
    {
      "cell_type": "code",
      "execution_count": null,
      "metadata": {
        "colab": {
          "base_uri": "https://localhost:8080/"
        },
        "id": "JtmZCv_T8Zm0",
        "outputId": "5ad87b12-7f65-424f-9a99-e45fdfbdec08"
      },
      "outputs": [
        {
          "name": "stdout",
          "output_type": "stream",
          "text": [
            "/content/drive/MyDrive\n"
          ]
        }
      ],
      "source": [
        "%cd /content/drive/MyDrive/\n"
      ]
    },
    {
      "cell_type": "code",
      "execution_count": null,
      "metadata": {
        "colab": {
          "base_uri": "https://localhost:8080/"
        },
        "id": "swDLpAEQ8t34",
        "outputId": "6eaa3810-0644-4453-d362-e461fd539171"
      },
      "outputs": [
        {
          "name": "stdout",
          "output_type": "stream",
          "text": [
            "Cloning into 'project-domain-prompts'...\n",
            "remote: Enumerating objects: 174, done.\u001b[K\n",
            "remote: Counting objects: 100% (174/174), done.\u001b[K\n",
            "remote: Compressing objects: 100% (169/169), done.\u001b[K\n",
            "remote: Total 174 (delta 87), reused 7 (delta 0), pack-reused 0 (from 0)\u001b[K\n",
            "Receiving objects: 100% (174/174), 100.83 KiB | 2.88 MiB/s, done.\n",
            "Resolving deltas: 100% (87/87), done.\n"
          ]
        }
      ],
      "source": [
        "!git clone https://github.com/achach2/project-domain-prompts.git\n"
      ]
    },
    {
      "cell_type": "code",
      "execution_count": null,
      "metadata": {
        "colab": {
          "base_uri": "https://localhost:8080/"
        },
        "id": "u53dJVM697op",
        "outputId": "89933ff0-35c2-4b5a-a1d4-a7fe3bbb52fb"
      },
      "outputs": [
        {
          "name": "stdout",
          "output_type": "stream",
          "text": [
            "/content/drive/MyDrive/project-domain-prompts\n",
            "\u001b[0m\u001b[01;34mconfigs\u001b[0m/  \u001b[01;34mdocs\u001b[0m/    \u001b[01;34mnotebooks\u001b[0m/  README.md  \u001b[01;34mscripts\u001b[0m/\n",
            "\u001b[01;34mdata\u001b[0m/     LICENSE  \u001b[01;34mpapers\u001b[0m/     \u001b[01;34mresults\u001b[0m/\n"
          ]
        }
      ],
      "source": [
        "%cd /content/drive/MyDrive/project-domain-prompts\n",
        "%ls"
      ]
    },
    {
      "cell_type": "code",
      "execution_count": null,
      "metadata": {
        "id": "M4susEOI-EZG"
      },
      "outputs": [],
      "source": [
        "!git config --global user.name \"M Achachlouei\"\n",
        "!git config --global user.email \"achachlouei@outlook.com\""
      ]
    },
    {
      "cell_type": "code",
      "execution_count": null,
      "metadata": {
        "colab": {
          "base_uri": "https://localhost:8080/"
        },
        "id": "XmVfwnWL-TWk",
        "outputId": "6bf20262-adc8-41ef-c20b-91a466ec935b"
      },
      "outputs": [
        {
          "name": "stdout",
          "output_type": "stream",
          "text": [
            "On branch main\n",
            "Your branch is up to date with 'origin/main'.\n",
            "\n",
            "nothing to commit, working tree clean\n"
          ]
        }
      ],
      "source": [
        "!git status"
      ]
    },
    {
      "cell_type": "code",
      "execution_count": null,
      "metadata": {
        "colab": {
          "base_uri": "https://localhost:8080/"
        },
        "id": "2EfdIJDCAGDO",
        "outputId": "d56c63f6-ba9e-4ccf-e011-9d9dd8ef2a76"
      },
      "outputs": [
        {
          "name": "stdout",
          "output_type": "stream",
          "text": [
            "\u001b[0m\u001b[01;34mconfigs\u001b[0m/  \u001b[01;34mdocs\u001b[0m/    \u001b[01;34mnotebooks\u001b[0m/  README.md  \u001b[01;34mscripts\u001b[0m/\n",
            "\u001b[01;34mdata\u001b[0m/     LICENSE  \u001b[01;34mpapers\u001b[0m/     \u001b[01;34mresults\u001b[0m/\n"
          ]
        }
      ],
      "source": [
        "%ls"
      ]
    },
    {
      "cell_type": "code",
      "execution_count": null,
      "metadata": {
        "id": "v5GqvwFz-So5"
      },
      "outputs": [],
      "source": [
        "%mkdir experiments"
      ]
    },
    {
      "cell_type": "code",
      "execution_count": null,
      "metadata": {
        "colab": {
          "base_uri": "https://localhost:8080/"
        },
        "id": "KyEACW8aQwws",
        "outputId": "cb661ad9-9ef6-4ac8-c3da-3d28cd94b734"
      },
      "outputs": [
        {
          "name": "stdout",
          "output_type": "stream",
          "text": [
            "/content/drive/MyDrive/project-domain-prompts/experiments\n"
          ]
        }
      ],
      "source": [
        "%cd experiments"
      ]
    },
    {
      "cell_type": "code",
      "execution_count": null,
      "metadata": {
        "id": "mqm1egEqQw3M"
      },
      "outputs": [],
      "source": [
        "%mkdir experiment-input\n",
        "%mkdir experiment-output\n",
        "%mkdir experiment-results"
      ]
    },
    {
      "cell_type": "code",
      "execution_count": null,
      "metadata": {
        "id": "FJMOEaTY6p4g"
      },
      "outputs": [],
      "source": []
    },
    {
      "cell_type": "markdown",
      "metadata": {
        "id": "oqxTgdme6q66"
      },
      "source": [
        "## Input instruction-context pairs"
      ]
    },
    {
      "cell_type": "code",
      "execution_count": null,
      "metadata": {
        "id": "p6kH7z5Y6n1i"
      },
      "outputs": [],
      "source": []
    },
    {
      "cell_type": "code",
      "execution_count": null,
      "metadata": {
        "id": "wk4c5psohx3i"
      },
      "outputs": [],
      "source": [
        "def evaluate_response(context, validation_instruction, max_retries=1):\n",
        "    evaluation_prompt_template = \"\"\"\n",
        "Evaluate the following response from the large languge model (LLM) in relation to the validation instruction and the provided context using three criteria:\n",
        "\n",
        "1. Relevancy – How directly does the LLM response address the instruction?\n",
        "2. Completeness – Are all required elements present in the LLM response to answer the instruction fully?\n",
        "3. Specificity – Does the LLM response cite specific items or evidence from the context?\n",
        "\n",
        "Validation Instruction:\n",
        "\"{instruction}\"\n",
        "\n",
        "Retrieved Context:\n",
        "\"{context}\"\n",
        "\n",
        "Return your evaluation score and justification as a JSON object in the following format:\n",
        "\n",
        "{{\n",
        "  \"Relevancy\": {{\n",
        "    \"Score\": X,\n",
        "    \"Justification\": \"Explanation and rationale for why this score was given for relevancy...\"\n",
        "  }},\n",
        "  \"Completeness\": {{\n",
        "    \"Score\": Y,\n",
        "    \"Justification\": \"Explanation for why this score was given forcompleteness...\"\n",
        "  }},\n",
        "  \"Specificity\": {{\n",
        "    \"Score\": Z,\n",
        "    \"Justification\": \"Explanation for why this score was given forspecificity...\"\n",
        "  }}\n",
        "}}\n",
        "\n",
        "Where X, Y, Z are scores from 1 (very poor) to 5 (excellent).\n",
        "Do not include any commentary outside the JSON structure.\n",
        "\"\"\"\n",
        "\n",
        "    for attempt in range(max_retries):\n",
        "        evaluation_prompt = evaluation_prompt_template.format(instruction=validation_instruction, ctx=context)\n",
        "        response = call_llm(evaluation_prompt, temperature=0.3)\n",
        "\n",
        "        try:\n",
        "            scores = json.loads(response.strip())\n",
        "            if all(metric in scores for metric in [\"Relevancy\", \"Completeness\", \"Specificity\"]):\n",
        "                avg_score = (\n",
        "                    scores[\"Relevancy\"][\"Score\"]\n",
        "                    + scores[\"Completeness\"][\"Score\"]\n",
        "                    + scores[\"Specificity\"][\"Score\"]\n",
        "                ) / 3\n",
        "\n",
        "                explanations = {\n",
        "                    metric: scores[metric][\"Justification\"]\n",
        "                    for metric in [\"Relevancy\", \"Completeness\", \"Specificity\"]\n",
        "                }\n",
        "\n",
        "                return avg_score, scores, explanations\n",
        "        except Exception as e:\n",
        "            print(f\"[Attempt {attempt+1}] JSON parsing failed: {e}\")\n",
        "            continue\n",
        "\n",
        "    # Fallback: use a neutral default instead of zeros\n",
        "    fallback_scores = {\n",
        "        \"Relevancy\": {\"Score\": 3, \"Justification\": \"LLM output could not be parsed, assigning neutral score.\"},\n",
        "        \"Completeness\": {\"Score\": 3, \"Justification\": \"LLM output could not be parsed, assigning neutral score.\"},\n",
        "        \"Specificity\": {\"Score\": 3, \"Justification\": \"LLM output could not be parsed, assigning neutral score.\"}\n",
        "    }\n",
        "    fallback_explanations = {k: v[\"Justification\"] for k, v in fallback_scores.items()}\n",
        "    avg_score = sum(v[\"Score\"] for v in fallback_scores.values()) / 3\n",
        "\n",
        "    return avg_score, fallback_scores, fallback_explanations\n"
      ]
    },
    {
      "cell_type": "code",
      "execution_count": null,
      "metadata": {
        "id": "szxlGBCvBgvE"
      },
      "outputs": [],
      "source": [
        "PROMPT_TEMPLATES_V1 = {\n",
        "    \"zero_shot\": \"\"\"Instruction: {instruction}\n",
        "\n",
        "Context:\n",
        "{context}\n",
        "\n",
        "Please generate a response based on the instruction and context above.\n",
        "\"\"\",\n",
        "\n",
        "    \"few_shot\": \"\"\"Here are a few examples of how to respond to similar instructions:\n",
        "\n",
        "Example 1:\n",
        "Instruction: Assess if input features are relevant to the task.\n",
        "Context: The model uses income, age, and credit history...\n",
        "Response: The features are relevant because...\n",
        "\n",
        "Example 2:\n",
        "Instruction: Determine if model assumptions are clearly stated.\n",
        "Context: The model assumes independence of predictors...\n",
        "Response: The assumptions are clearly described...\n",
        "\n",
        "Now, respond to this instruction:\n",
        "\n",
        "Instruction: {instruction}\n",
        "Context:\n",
        "{context}\n",
        "\n",
        "Please provide your response.\n",
        "\"\"\",\n",
        "\n",
        "    \"zero_shot_cot\": \"\"\"Instruction: {instruction}\n",
        "\n",
        "Context:\n",
        "{context}\n",
        "\n",
        "Let's think step by step. What information is provided in the context that helps answer the instruction?\n",
        "\"\"\",\n",
        "\n",
        "    \"few_shot_cot\": \"\"\"Here are a few examples followed by a new instruction.\n",
        "\n",
        "Example 1:\n",
        "Instruction: Assess model objectives.\n",
        "Context: The model predicts...\n",
        "Step-by-step reasoning: The objective is...\n",
        "Response: ...\n",
        "\n",
        "Example 2:\n",
        "Instruction: Identify input features.\n",
        "Context: The model uses...\n",
        "Step-by-step reasoning: Features include...\n",
        "Response: ...\n",
        "\n",
        "Now your turn:\n",
        "\n",
        "Instruction: {instruction}\n",
        "Context:\n",
        "{context}\n",
        "\n",
        "Step-by-step reasoning:\n",
        "\"\"\",\n",
        "\n",
        "    \"react\": \"\"\"You are an AI assistant trained to reason, act, and self-reflect.\n",
        "\n",
        "Instruction: {instruction}\n",
        "Context:\n",
        "{context}\n",
        "\n",
        "Reasoning:\n",
        "Action:\n",
        "Self-Critique:\n",
        "Final Answer:\n",
        "\"\"\",\n",
        "\n",
        "    \"tree_of_thought\": \"\"\"Instruction: {instruction}\n",
        "Context:\n",
        "{context}\n",
        "\n",
        "You may explore multiple branches of reasoning before arriving at an answer.\n",
        "\n",
        "Thought 1:\n",
        "Thought 2:\n",
        "Thought 3:\n",
        "Conclusion:\n",
        "\"\"\"\n",
        "}\n"
      ]
    },
    {
      "cell_type": "code",
      "execution_count": null,
      "metadata": {
        "id": "Jl6aOrbVAkUP"
      },
      "outputs": [],
      "source": [
        "PROMPT_TEMPLATES_V2 = {\n",
        "    \"zero_shot\": \"\"\"You are a model validation expert specializing in risk, compliance, and documentation assessment.\n",
        "\n",
        "Below is a specific instruction followed by supporting context from a model development document (MDD). Based on the instruction and the context, write a concise and well-structured validation assessment. Your response should:\n",
        "\n",
        "1. Address the instruction directly.\n",
        "2. Use specific evidence or phrases from the context to support your assessment.\n",
        "3. Be evaluative, not just descriptive.\n",
        "\n",
        "---\n",
        "\n",
        "Instruction:\n",
        "{instruction}\n",
        "\n",
        "---\n",
        "\n",
        "Context:\n",
        "{context}\n",
        "\n",
        "---\n",
        "\n",
        "Your Task:\n",
        "Provide a written validation assessment in 3–6 sentences that:\n",
        "- Responds directly to the instruction,\n",
        "- Cites or paraphrases relevant details from the context,\n",
        "- Offers a clear, professional judgment as a model validator.\n",
        "\n",
        "\"\"\",\n",
        "\n",
        "    \"few_shot\": \"\"\"You are a model validation expert. Given an instruction and a related excerpt from a model development document (MDD), your task is to write a professional validation assessment.\n",
        "\n",
        "Your response should:\n",
        "- Clearly address the instruction.\n",
        "- Reference specific evidence from the context.\n",
        "- Be evaluative, not merely descriptive.\n",
        "\n",
        "Below are two examples of high-quality responses.\n",
        "\n",
        "---\n",
        "\n",
        "Example 1\n",
        "\n",
        "Instruction:\n",
        "Assess whether the model assumptions are clearly stated and validated.\n",
        "\n",
        "Context:\n",
        "Assumes independence between TF-IDF feature dimensions. Assumes the label annotations are accurate representations of ground truth.\n",
        "\n",
        "Response:\n",
        "The model assumptions are clearly described, particularly the independence of TF-IDF features and trust in labeling accuracy. However, the MDD does not provide evidence that these assumptions were empirically tested—e.g., through multicollinearity checks or label consistency audits. As such, while assumptions are well-articulated, their validation remains incomplete.\n",
        "\n",
        "---\n",
        "\n",
        "Example 2\n",
        "\n",
        "Instruction:\n",
        "Review the data quality analysis performed in the MDD.\n",
        "\n",
        "Context:\n",
        "No missing records were observed in the dataset. Data was verified by compliance leads to ensure labeling consistency. All text records were processed using consistent UTF-8 encoding.\n",
        "\n",
        "Response:\n",
        "The MDD provides a data quality assessment. It addresses completeness (no missing records), accuracy (compliance-led verification), and consistency (uniform encoding standards). These checks are comprehensive and appropriately scoped for the model’s reliance on free-text inputs, supporting confidence in the input data pipeline.\n",
        "\n",
        "---\n",
        "\n",
        "Now complete the following:\n",
        "\n",
        "Instruction:\n",
        "{instruction}\n",
        "\n",
        "Context:\n",
        "{context}\n",
        "\n",
        "Response:\n",
        "\n",
        "\"\"\",\n",
        "\n",
        "    \"zero_shot_cot\": \"\"\"You are a model validation expert. Your task is to assess whether a model development document (MDD) provides adequate evidence to satisfy a specific validation instruction.\n",
        "\n",
        "You will be given:\n",
        "- An instruction that defines what should be validated.\n",
        "- Context extracted from the MDD that may or may not contain relevant evidence.\n",
        "\n",
        "Please reason step by step and then provide your final assessment.\n",
        "\n",
        "---\n",
        "\n",
        "Instruction:\n",
        "{instruction}\n",
        "\n",
        "Context:\n",
        "{context}\n",
        "\n",
        "---\n",
        "\n",
        "Step-by-Step Reasoning:\n",
        "1. Identify the key requirement(s) in the instruction.\n",
        "2. Analyze the context to check whether it addresses each of those requirements.\n",
        "3. Note any evidence that supports or contradicts the requirement.\n",
        "4. If something is missing, explain what is missing and how critical it is.\n",
        "\n",
        "Final Assessment:\n",
        "Write a concise, professional assessment paragraph as a model validator. Be specific and evaluative, using direct references or paraphrasing from the context.\n",
        "\n",
        "\"\"\",\n",
        "\n",
        "    \"few_shot_cot\": \"\"\"You are a model validation expert. Your task is to reason step by step to evaluate whether a model development document (MDD) meets a specific validation instruction.\n",
        "\n",
        "Each example includes:\n",
        "- An instruction\n",
        "- Supporting context from the MDD\n",
        "- Step-by-step reasoning\n",
        "- A final assessment based on the reasoning\n",
        "\n",
        "Follow the same structure for the new instruction and context provided at the end.\n",
        "\n",
        "---\n",
        "\n",
        "Example 1\n",
        "\n",
        "Instruction:\n",
        "Assess whether the model assumptions are clearly stated and validated.\n",
        "\n",
        "Context:\n",
        "Assumes independence between TF-IDF feature dimensions. Assumes the label annotations are accurate representations of ground truth.\n",
        "\n",
        "Step-by-Step Reasoning:\n",
        "1. The instruction requires clarity and validation of assumptions.\n",
        "2. The context lists two assumptions: feature independence and label accuracy.\n",
        "3. There is no mention of tests like correlation analysis or label reliability checks.\n",
        "4. Therefore, assumptions are clear but not validated with supporting analysis.\n",
        "\n",
        "Final Assessment:\n",
        "The MDD articulates its core assumptions well, including TF-IDF feature independence and the reliability of labeled data. However, it lacks empirical validation to support these assumptions, such as correlation testing or label audit results. This weakens the assurance of assumption robustness.\n",
        "\n",
        "---\n",
        "\n",
        "Example 2\n",
        "\n",
        "Instruction:\n",
        "Review the data quality analysis performed in the MDD.\n",
        "\n",
        "Context:\n",
        "No missing records were observed. Data was verified by compliance leads. Text was processed using consistent UTF-8 encoding.\n",
        "\n",
        "Step-by-Step Reasoning:\n",
        "1. The instruction requires assessment of data completeness, accuracy, and consistency.\n",
        "2. The context states there were no missing records, suggesting completeness.\n",
        "3. Verification by compliance leads indicates accuracy.\n",
        "4. UTF-8 normalization ensures consistency.\n",
        "5. All key aspects of data quality are addressed.\n",
        "\n",
        "Final Assessment:\n",
        "The MDD demonstrates a thorough approach to data quality. It covers completeness, accuracy, and consistency through specific controls such as record validation, expert oversight, and encoding normalization. These efforts build strong trust in the input pipeline for model development.\n",
        "\n",
        "---\n",
        "\n",
        "Now complete the following:\n",
        "\n",
        "Instruction:\n",
        "{instruction}\n",
        "\n",
        "Context:\n",
        "{context}\n",
        "\n",
        "Step-by-Step Reasoning:\n",
        "1.\n",
        "\n",
        "Final Assessment:\n",
        "\n",
        "\n",
        "\"\"\",\n",
        "\n",
        "    \"react\": \"\"\"You are a model validation expert. Your goal is to evaluate whether the provided model development document (MDD) excerpt fulfills a specific validation instruction.\n",
        "\n",
        "To complete the task effectively:\n",
        "- Think out loud as you analyze the instruction and context (Reasoning).\n",
        "- Draw an evidence-based conclusion (Action).\n",
        "- Reflect on the quality of your reasoning and revise if needed (Self-Criticism).\n",
        "\n",
        "---\n",
        "\n",
        "Instruction:\n",
        "{instruction}\n",
        "\n",
        "Context:\n",
        "{context}\n",
        "\n",
        "---\n",
        "\n",
        "Reasoning:\n",
        "Step through the instruction and context. What does the instruction require? Does the context satisfy it? What is explicitly stated, and what might be missing?\n",
        "\n",
        "Action:\n",
        "Based on your reasoning, write a concise and professional validation assessment paragraph. Reference specific evidence from the context. State clearly whether the instruction is met, partially met, or not met.\n",
        "\n",
        "Self-Criticism:\n",
        "Now reflect on your own response. Did you overlook any important details or misinterpret the instruction? Would you change or qualify your assessment after reviewing your reasoning again?\n",
        "\n",
        "\"\"\",\n",
        "\n",
        "    \"tree_of_thought\": \"\"\"You are a model validation expert. Your task is to evaluate whether a model development document (MDD) satisfies a specific validation instruction by exploring multiple reasoning paths before arriving at a final conclusion.\n",
        "\n",
        "You will be given:\n",
        "- A validation instruction\n",
        "- A block of context extracted from the MDD\n",
        "\n",
        "Explore at least three different \"thought branches\"—perspectives or approaches that could help you analyze whether the instruction has been fulfilled. Then synthesize them into a well-reasoned conclusion.\n",
        "\n",
        "---\n",
        "\n",
        "Instruction:\n",
        "{instruction}\n",
        "\n",
        "Context:\n",
        "{context}\n",
        "\n",
        "---\n",
        "\n",
        "Thought 1 (Evidence-Focused):\n",
        "Start by identifying any explicit statements or evidence in the context that directly address the instruction. Does the MDD clearly satisfy the requirement?\n",
        "\n",
        "Thought 2 (Missing Elements or Gaps):\n",
        "Consider what might be missing or insufficient. Are there areas the context does not cover that are critical to fully satisfying the instruction?\n",
        "\n",
        "Thought 3 (Implications and Best Practices):\n",
        "Think about the broader implications. Does the approach described in the context align with regulatory expectations, model risk best practices, or industry norms?\n",
        "\n",
        "---\n",
        "\n",
        "Conclusion:\n",
        "Based on the above reasoning, write a concise and professional validation assessment. Clearly state whether the instruction is fully met, partially met, or not met, and support your conclusion with reasoning from the thoughts above.\n",
        "\n",
        "\"\"\"\n",
        "}\n"
      ]
    },
    {
      "cell_type": "code",
      "execution_count": null,
      "metadata": {
        "id": "1WnIaS6RFpdu"
      },
      "outputs": [],
      "source": [
        "\n",
        "# Integrated Experimental Runner for LLM Prompting Study\n",
        "\n",
        "import json\n",
        "import random\n",
        "from datetime import datetime\n",
        "import os\n",
        "\n",
        "# Configurations\n",
        "CONFIG = {\n",
        "    \"temperature\": 0.3,\n",
        "    \"top_p\": 0.95,\n",
        "    \"max_tokens\": 600,\n",
        "    \"models\": [\"gpt-4o\", \"llama3\", \"qwen7b\"],\n",
        "    # \"prompting_techniques\": [\"zero_shot\", \"few_shot\", \"zero_shot_cot\", \"few_shot_cot\",\"react\",\"tree_of_thought\" ],\n",
        "    \"repetitions\": 3\n",
        "}\n",
        "\n",
        "# Sample prompt template\n",
        "PROMPT_TEMPLATE = \"\"\"\n",
        "Instruction: {instruction}\n",
        "\n",
        "Context:\n",
        "{context}\n",
        "\n",
        "Please generate a response based on the instruction and context above.\n",
        "\"\"\"\n",
        "\n",
        "\n",
        "\n",
        "# Load input data\n",
        "def load_data(filepath):\n",
        "    with open(filepath, \"r\") as f:\n",
        "        return json.load(f)\n",
        "\n",
        "# Generate prompt\n",
        "def generate_prompt(instruction, context, technique):\n",
        "    # Extendable: use different templates per technique\n",
        "    return PROMPT_TEMPLATE.format(instruction=instruction, context=context)\n",
        "\n",
        "# Simulated model response (placeholder for actual API or local model)\n",
        "# def call_llm(prompt, model_name):\n",
        "#     return f\"[Simulated response from {model_name} using prompt: {prompt[:60]}...]\"\n",
        "\n",
        "def call_llm(prompt, model_name=\"gpt-4o\"):\n",
        "    response = client.chat.completions.create(\n",
        "        model=model_name,\n",
        "        messages=[\n",
        "            {\"role\": \"system\", \"content\": \"You are a model validation expert.\"},\n",
        "            {\"role\": \"user\", \"content\": prompt}\n",
        "        ],\n",
        "        # temperature=temperature\n",
        "    )\n",
        "    return response.choices[0].message.content\n",
        "\n",
        "# Evaluation logic\n",
        "def evaluate_response(instruction, context, response):\n",
        "    return {\n",
        "        \"relevancy\": {\n",
        "            \"score\": random.randint(3, 5),\n",
        "            \"rationale\": \"Covers instruction topic adequately.\"\n",
        "        },\n",
        "        \"completeness\": {\n",
        "            \"score\": random.randint(3, 5),\n",
        "            \"rationale\": \"Includes most key elements.\"\n",
        "        },\n",
        "        \"specificity\": {\n",
        "            \"score\": random.randint(2, 5),\n",
        "            \"rationale\": \"Mentions document-specific terms.\"\n",
        "        },\n",
        "        \"errors\": {\n",
        "            \"hallucination\": {\n",
        "                \"exists\": random.choice([True, False]),\n",
        "                \"evidence\": \"Mentions a feature not present in context.\" if random.choice([True, False]) else \"\",\n",
        "                \"severity\": random.choice([\"low\", \"medium\", \"high\"])\n",
        "            },\n",
        "            \"redundancy\": {\n",
        "                \"exists\": random.choice([True, False]),\n",
        "                \"evidence\": \"Repeats same phrase or point.\",\n",
        "                \"severity\": random.choice([\"low\", \"medium\"])\n",
        "            },\n",
        "            \"lack_of_specificity\": {\n",
        "                \"exists\": random.choice([True, False]),\n",
        "                \"evidence\": \"Uses vague terms without citing context.\",\n",
        "                \"severity\": random.choice([\"low\", \"medium\", \"high\"])\n",
        "            }\n",
        "        }\n",
        "    }\n",
        "\n",
        "# Save output\n",
        "def save_output(output, filepath):\n",
        "    with open(filepath, \"w\") as f:\n",
        "        json.dump(output, f, indent=2)\n",
        "\n",
        "# Run experiment\n",
        "def run_experiment(input_path, output_dir):\n",
        "    data = load_data(input_path)\n",
        "    for entry in data:\n",
        "        for technique in CONFIG[\"prompting_techniques\"]:\n",
        "            for model in CONFIG[\"models\"]:\n",
        "                for rep in range(CONFIG[\"repetitions\"]):\n",
        "                    prompt = generate_prompt(entry[\"instruction\"], entry[\"context\"], technique)\n",
        "                    response = call_llm(prompt, model)\n",
        "                    evaluation = evaluate_response(entry[\"instruction\"], entry[\"context\"], response)\n",
        "\n",
        "                    result = {\n",
        "                        \"id\": entry[\"id\"],\n",
        "                        \"instruction\": entry[\"instruction\"],\n",
        "                        \"context\": entry[\"context\"],\n",
        "                        \"model\": model,\n",
        "                        \"prompting_technique\": technique,\n",
        "                        \"prompt\": prompt,\n",
        "                        \"response\": response,\n",
        "                        \"evaluation\": evaluation,\n",
        "                        \"generation_metadata\": {\n",
        "                            \"temperature\": CONFIG[\"temperature\"],\n",
        "                            \"top_p\": CONFIG[\"top_p\"],\n",
        "                            \"max_tokens\": CONFIG[\"max_tokens\"],\n",
        "                            \"timestamp\": datetime.now().isoformat()\n",
        "                        }\n",
        "                    }\n",
        "\n",
        "                    output_filename = f\"{entry['id']}_{model}_{technique}_rep{rep+1}.json\"\n",
        "                    save_output(result, os.path.join(output_dir, output_filename))\n",
        "\n",
        "# Example run (simulate)\n",
        "if __name__ == \"__main__\":\n",
        "    sample_input = [\n",
        "  {\n",
        "    \"id\": \"001\",\n",
        "    \"instruction\": \"Review the core requirements for the overall theory, design, and selection of the modeling framework.\",\n",
        "    \"context\": \"LightGBM was selected due to its balance of interpretability and performance on tabular TF-IDF data. It provides feature importance outputs and rapid retraining.\"\n",
        "  },\n",
        "  {\n",
        "    \"id\": \"002\",\n",
        "    \"instruction\": \"Assess whether the model assumptions are clearly stated and validated.\",\n",
        "    \"context\": \"Assumes independence between TF-IDF feature dimensions. Assumes the label annotations are accurate representations of ground truth.\"\n",
        "  },\n",
        "  {\n",
        "    \"id\": \"003\",\n",
        "    \"instruction\": \"Review and summarize the information on data sources, including reasonableness of accessed or excluded data.\",\n",
        "    \"context\": \"The dataset includes 2,000 anonymized bankers’ notes extracted from the internal CRM platform... Each note was manually labeled... by trained compliance officers.\"\n",
        "  },\n",
        "  {\n",
        "    \"id\": \"004\",\n",
        "    \"instruction\": \"Review the data quality analysis performed in the MDD.\",\n",
        "    \"context\": \"No missing records were observed... Data was verified by compliance leads... All text records were processed using consistent UTF-8 encoding...\"\n",
        "  },\n",
        "  {\n",
        "    \"id\": \"005\",\n",
        "    \"instruction\": \"Check for consistency between change logs and model risk system regarding upstream models.\",\n",
        "    \"context\": \"No mention of model change logs, model risk systems, or upstream model dependencies.\"\n",
        "  },\n",
        "  {\n",
        "    \"id\": \"006\",\n",
        "    \"instruction\": \"Assess whether the model outputs are consistent with the model objectives and requirements.\",\n",
        "    \"context\": \"The model is developed to classify bankers' notes as EFA or Non-EFA. It uses LightGBM as a binary classifier... trained on domain expert-labeled notes.\"\n",
        "  },\n",
        "  {\n",
        "    \"id\": \"007\",\n",
        "    \"instruction\": \"Evaluate the quality and comprehensiveness of the developer’s outcome testing.\",\n",
        "    \"context\": \"Performance metrics validated using 5-fold cross-validation. LightGBM outperformed Logistic Regression and Naive Bayes baselines by 6–8% F1 score.\"\n",
        "  },\n",
        "  {\n",
        "    \"id\": \"008\",\n",
        "    \"instruction\": \"Assess the adequacy of model implementation specifications and test plan.\",\n",
        "    \"context\": \"No mention of implementation specifications, system test plans, or production deployment details.\"\n",
        "  },\n",
        "  {\n",
        "    \"id\": \"009\",\n",
        "    \"instruction\": \"Provide an assessment of model-level control activities documented in the MDD.\",\n",
        "    \"context\": \"No explicit mention of model-level controls, governance, or risk mitigation mechanisms outside of preprocessing checks.\"\n",
        "  },\n",
        "  {\n",
        "    \"id\": \"010\",\n",
        "    \"instruction\": \"Assess the model monitoring plans (frequency, KPIs, thresholds, etc.).\",\n",
        "    \"context\": \"Sensitivity analysis showed stable predictions with +/-10% TF-IDF variance.\"\n",
        "  }\n",
        "]\n",
        "\n",
        "\n",
        "    input_dir = \"/content/drive/My Drive/project-domain-prompts/experiments/experiment-input\"\n",
        "    output_dir = \"/content/drive/My Drive/project-domain-prompts/experiments/experiment-output\"\n",
        "    input_file = \"sample-input.json\"\n",
        "\n",
        "\n",
        "    with open(os.path.join(input_dir, input_file), \"w\") as f:\n",
        "        json.dump(sample_input, f)\n",
        "\n",
        "    run_experiment(os.path.join(input_dir, input_file), output_dir)\n"
      ]
    },
    {
      "cell_type": "code",
      "execution_count": null,
      "metadata": {
        "id": "wEbXxgI6FmoO"
      },
      "outputs": [],
      "source": [
        "{\n",
        "  \"id\": \"<string: unique identifier for the instruction-context pair>\",\n",
        "  \"instruction\": \"<string: the validation instruction given to the model>\",\n",
        "  \"context\": \"<string: context or excerpt from a model development document>\",\n",
        "  \"model\": \"<string: name of the LLM used (e.g., gpt-4o, llama3)>\",\n",
        "  \"prompting_technique\": \"<string: prompting method used (e.g., zero_shot, few_shot, cot, react)>\",\n",
        "  \"prompt\": \"<string: the full prompt given to the model>\",\n",
        "  \"response\": \"<string: the model's response to the prompt>\",\n",
        "  \"evaluation\": {\n",
        "    \"relevancy\": {\n",
        "      \"score\": <integer: 1 to 5>,\n",
        "      \"rationale\": \"<string: explanation of the relevancy score>\"\n",
        "    },\n",
        "    \"completeness\": {\n",
        "      \"score\": <integer: 1 to 5>,\n",
        "      \"rationale\": \"<string: explanation of the completeness score>\"\n",
        "    },\n",
        "    \"specificity\": {\n",
        "      \"score\": <integer: 1 to 5>,\n",
        "      \"rationale\": \"<string: explanation of the specificity score>\"\n",
        "    },\n",
        "    \"errors\": {\n",
        "      \"hallucination\": {\n",
        "        \"exists\": <boolean>,\n",
        "        \"evidence\": \"<string: quoted or paraphrased hallucinated content or empty if none>\",\n",
        "        \"severity\": \"<string: low | medium | high>\"\n",
        "      },\n",
        "      \"redundancy\": {\n",
        "        \"exists\": <boolean>,\n",
        "        \"evidence\": \"<string: repetitive content or empty if none>\",\n",
        "        \"severity\": \"<string: low | medium | high>\"\n",
        "      },\n",
        "      \"lack_of_specificity\": {\n",
        "        \"exists\": <boolean>,\n",
        "        \"evidence\": \"<string: vague or generic statements or empty if none>\",\n",
        "        \"severity\": \"<string: low | medium | high>\"\n",
        "      }\n",
        "    }\n",
        "  },\n",
        "  \"generation_metadata\": {\n",
        "    \"temperature\": <float: generation temperature>,\n",
        "    \"top_p\": <float: nucleus sampling value>,\n",
        "    \"max_tokens\": <integer: token limit>,\n",
        "    \"timestamp\": \"<string: ISO 8601 format timestamp of generation>\"\n",
        "  }\n",
        "}\n"
      ]
    },
    {
      "cell_type": "code",
      "execution_count": null,
      "metadata": {
        "colab": {
          "base_uri": "https://localhost:8080/",
          "height": 607
        },
        "id": "95tqxt-gbZu-",
        "outputId": "c374c46b-43e8-4af6-f5f9-8e2314b11cbc"
      },
      "outputs": [
        {
          "data": {
            "image/png": "[encoded data removed]",
            "text/plain": [
              "<Figure size 1000x600 with 1 Axes>"
            ]
          },
          "metadata": {},
          "output_type": "display_data"
        }
      ],
      "source": [
        "# Plot the results\n",
        "\n",
        "import pandas as pd\n",
        "import matplotlib.pyplot as plt\n",
        "\n",
        "# Directory where your JSON files are stored\n",
        "json_dir = output_dir\n",
        "plot_data = []\n",
        "\n",
        "# Loop through all JSON files and extract needed info\n",
        "for file_name in os.listdir(json_dir):\n",
        "    if file_name.endswith('.json'):\n",
        "        with open(os.path.join(json_dir, file_name)) as f:\n",
        "            record = json.load(f)\n",
        "            technique = record.get(\"prompting_technique\", \"unknown\")\n",
        "            evaluation = record.get(\"evaluation\", {})\n",
        "            plot_data.append({\n",
        "                \"Technique\": technique,\n",
        "                \"Relevancy\": evaluation.get(\"relevancy\", {}).get(\"score\", None),\n",
        "                \"Completeness\": evaluation.get(\"completeness\", {}).get(\"score\", None),\n",
        "                \"Specificity\": evaluation.get(\"specificity\", {}).get(\"score\", None),\n",
        "            })\n",
        "\n",
        "# Convert to DataFrame\n",
        "df = pd.DataFrame(plot_data)\n",
        "\n",
        "# Optional: Group by technique and average scores (if multiple entries per technique)\n",
        "df = df.groupby(\"Technique\").mean().reset_index()\n",
        "\n",
        "# Plotting\n",
        "x = df[\"Technique\"]\n",
        "relevancy = df[\"Relevancy\"]\n",
        "completeness = df[\"Completeness\"]\n",
        "specificity = df[\"Specificity\"]\n",
        "\n",
        "x_indices = range(len(x))\n",
        "width = 0.25\n",
        "\n",
        "plt.figure(figsize=(14, 8))\n",
        "plt.bar([i - width for i in x_indices], relevancy, width=width, label='Relevancy')\n",
        "plt.bar(x_indices, completeness, width=width, label='Completeness')\n",
        "plt.bar([i + width for i in x_indices], specificity, width=width, label='Specificity')\n",
        "\n",
        "plt.xlabel(\"Prompting Technique\")\n",
        "plt.ylabel(\"Scores (1 to 5)\")\n",
        "plt.title(\"Evaluation of Prompting Techniques (Relevancy, Completeness, Specificity)\")\n",
        "plt.xticks(ticks=x_indices, labels=x, rotation=45, ha='right')\n",
        "plt.yticks([1, 2, 3, 4, 5])\n",
        "plt.legend()\n",
        "plt.grid(axis='y', linestyle='--', alpha=0.5)\n",
        "plt.tight_layout()\n",
        "plt.show()\n",
        "\n",
        "\n",
        "\n",
        "\n",
        "# Define the data with techniques in the specified order\n",
        "data = {\n",
        "    \"technique\": [\n",
        "        \"zero_shot\",\n",
        "        \"zero_shot_cot\",\n",
        "        \"few_shot\",\n",
        "        \"few_shot_cot\",\n",
        "        \"tree_of_thought\",\n",
        "        \"react\"\n",
        "    ],\n",
        "    \"relevancy\": [5.0, 5.0, 5.0, 5.0, 5.0, 5.0],\n",
        "    \"completeness\": [3.83, 4.67, 4.71, 5.0, 5.0, 5.0],\n",
        "    \"specificity\": [4.83, 5.0, 4.86, 5.0, 5.0, 5.0]\n",
        "}\n",
        "\n",
        "# Create the DataFrame\n",
        "df = pd.DataFrame(data)\n",
        "\n",
        "# Set up bar positions\n",
        "bar_width = 0.25\n",
        "x = range(len(df[\"technique\"]))\n",
        "\n",
        "# Set custom colors\n",
        "colors = ['#1f77b4', '#ff7f0e', '#2ca02c']  # Blue, Orange, Green\n",
        "\n",
        "plt.figure(figsize=(10, 6))\n",
        "plt.bar([i - bar_width for i in x], df[\"relevancy\"], width=bar_width, label='Relevancy', color=colors[0])\n",
        "plt.bar(x, df[\"completeness\"], width=bar_width, label='Completeness', color=colors[1])\n",
        "plt.bar([i + bar_width for i in x], df[\"specificity\"], width=bar_width, label='Specificity', color=colors[2])\n",
        "\n",
        "plt.xticks(x, df[\"technique\"], rotation=45)\n",
        "plt.ylim(1, 5.1)\n",
        "plt.ylabel(\"Average Score\")\n",
        "plt.title(\"Prompting Technique Performance Comparison\")\n",
        "\n",
        "# Move legend outside\n",
        "plt.legend(loc='center left', bbox_to_anchor=(1, 0.5))\n",
        "\n",
        "plt.grid(axis='y', linestyle='--', alpha=0.6)\n",
        "plt.tight_layout()\n",
        "plt.show()\n",
        "\n"
      ]
    },
    {
      "cell_type": "markdown",
      "metadata": {
        "id": "zHuV8NFLNV_b"
      },
      "source": [
        "## Results\n",
        "Here's a summary comparing the performance of each prompting technique based on the experiments run across shared instruction-context pairs. The scores reflect the average across all evaluated pairs for each metric:\n",
        "\n",
        "Few-shot CoT, ReAct, and Tree of Thought techniques performed best, achieving highest scores in relevancy, completeness, and specificity.\n",
        "\n",
        "Few-shot and Zero-shot CoT also performed well, particularly in relevancy and specificity, but with slightly lower completeness.\n",
        "\n",
        "Zero-shot had the lowest completeness score, suggesting it may be less thorough without examples or structured reasoning."
      ]
    },
    {
      "cell_type": "code",
      "execution_count": null,
      "metadata": {
        "colab": {
          "base_uri": "https://localhost:8080/"
        },
        "id": "1IIKTissNsdS",
        "outputId": "42ebb654-7200-4bed-bcba-32f8657f37e9"
      },
      "outputs": [
        {
          "name": "stdout",
          "output_type": "stream",
          "text": [
            "         technique  relevancy  completeness  specificity\n",
            "0         few_shot        5.0          4.71         4.86\n",
            "1     few_shot_cot        5.0          5.00         5.00\n",
            "2            react        5.0          5.00         5.00\n",
            "3  tree_of_thought        5.0          5.00         5.00\n",
            "4        zero_shot        5.0          3.83         4.83\n",
            "5    zero_shot_cot        5.0          4.67         5.00\n"
          ]
        }
      ],
      "source": [
        "# Display the DataFrame\n",
        "print(df)\n"
      ]
    },
    {
      "cell_type": "code",
      "execution_count": null,
      "metadata": {
        "colab": {
          "base_uri": "https://localhost:8080/"
        },
        "id": "UDm0_ofV2CGG",
        "outputId": "392d84fd-064e-47e7-fe7a-09f01475a4d6"
      },
      "outputs": [
        {
          "name": "stdout",
          "output_type": "stream",
          "text": [
            "On branch main\n",
            "Your branch is up to date with 'origin/main'.\n",
            "\n",
            "Untracked files:\n",
            "  (use \"git add <file>...\" to include in what will be committed)\n",
            "\t\u001b[31m./\u001b[m\n",
            "\n",
            "nothing added to commit but untracked files present (use \"git add\" to track)\n"
          ]
        }
      ],
      "source": [
        "!git status"
      ]
    },
    {
      "cell_type": "code",
      "execution_count": null,
      "metadata": {
        "id": "jBOQ8bFlCjYz"
      },
      "outputs": [],
      "source": [
        "!git add ."
      ]
    },
    {
      "cell_type": "code",
      "execution_count": null,
      "metadata": {
        "colab": {
          "base_uri": "https://localhost:8080/"
        },
        "id": "OIm6IDNsCltQ",
        "outputId": "6914d0ba-9989-4d38-b084-8f4a5c68e752"
      },
      "outputs": [
        {
          "name": "stdout",
          "output_type": "stream",
          "text": [
            "[main 7500689] updated experiments\n",
            " 37 files changed, 1657 insertions(+)\n",
            " create mode 100644 experiments/experiment-input/sample-input.json\n",
            " create mode 100644 experiments/experiment-output/001_gpt-4o_1. zero_shot_rep1.json\n",
            " create mode 100644 experiments/experiment-output/001_gpt-4o_1. zero_shot_rep2.json\n",
            " create mode 100644 experiments/experiment-output/001_gpt-4o_1. zero_shot_rep3.json\n",
            " create mode 100644 experiments/experiment-output/001_gpt-4o_2. few_shot_rep1.json\n",
            " create mode 100644 experiments/experiment-output/001_gpt-4o_2. few_shot_rep2.json\n",
            " create mode 100644 experiments/experiment-output/001_gpt-4o_2. few_shot_rep3.json\n",
            " create mode 100644 experiments/experiment-output/001_gpt-4o_3. cot_rep1.json\n",
            " create mode 100644 experiments/experiment-output/001_gpt-4o_3. cot_rep2.json\n",
            " create mode 100644 experiments/experiment-output/001_gpt-4o_3. cot_rep3.json\n",
            " create mode 100644 experiments/experiment-output/001_gpt-4o_4. react_rep1.json\n",
            " create mode 100644 experiments/experiment-output/001_gpt-4o_4. react_rep2.json\n",
            " create mode 100644 experiments/experiment-output/001_gpt-4o_4. react_rep3.json\n",
            " create mode 100644 experiments/experiment-output/001_llama3_1. zero_shot_rep1.json\n",
            " create mode 100644 experiments/experiment-output/001_llama3_1. zero_shot_rep2.json\n",
            " create mode 100644 experiments/experiment-output/001_llama3_1. zero_shot_rep3.json\n",
            " create mode 100644 experiments/experiment-output/001_llama3_2. few_shot_rep1.json\n",
            " create mode 100644 experiments/experiment-output/001_llama3_2. few_shot_rep2.json\n",
            " create mode 100644 experiments/experiment-output/001_llama3_2. few_shot_rep3.json\n",
            " create mode 100644 experiments/experiment-output/001_llama3_3. cot_rep1.json\n",
            " create mode 100644 experiments/experiment-output/001_llama3_3. cot_rep2.json\n",
            " create mode 100644 experiments/experiment-output/001_llama3_3. cot_rep3.json\n",
            " create mode 100644 experiments/experiment-output/001_llama3_4. react_rep1.json\n",
            " create mode 100644 experiments/experiment-output/001_llama3_4. react_rep2.json\n",
            " create mode 100644 experiments/experiment-output/001_llama3_4. react_rep3.json\n",
            " create mode 100644 experiments/experiment-output/001_qwen7b_1. zero_shot_rep1.json\n",
            " create mode 100644 experiments/experiment-output/001_qwen7b_1. zero_shot_rep2.json\n",
            " create mode 100644 experiments/experiment-output/001_qwen7b_1. zero_shot_rep3.json\n",
            " create mode 100644 experiments/experiment-output/001_qwen7b_2. few_shot_rep1.json\n",
            " create mode 100644 experiments/experiment-output/001_qwen7b_2. few_shot_rep2.json\n",
            " create mode 100644 experiments/experiment-output/001_qwen7b_2. few_shot_rep3.json\n",
            " create mode 100644 experiments/experiment-output/001_qwen7b_3. cot_rep1.json\n",
            " create mode 100644 experiments/experiment-output/001_qwen7b_3. cot_rep2.json\n",
            " create mode 100644 experiments/experiment-output/001_qwen7b_3. cot_rep3.json\n",
            " create mode 100644 experiments/experiment-output/001_qwen7b_4. react_rep1.json\n",
            " create mode 100644 experiments/experiment-output/001_qwen7b_4. react_rep2.json\n",
            " create mode 100644 experiments/experiment-output/001_qwen7b_4. react_rep3.json\n"
          ]
        }
      ],
      "source": [
        "!git commit -m \"updated experiments\"\n"
      ]
    },
    {
      "cell_type": "code",
      "execution_count": null,
      "metadata": {
        "colab": {
          "base_uri": "https://localhost:8080/"
        },
        "id": "GugbqAeaCtV6",
        "outputId": "4982dee6-9dbc-40a1-ad7e-8095b7f44445"
      },
      "outputs": [
        {
          "name": "stdout",
          "output_type": "stream",
          "text": [
            "remote: Permission to achach2/project-domain-prompts.git denied to achach2.\n",
            "fatal: unable to access 'https://github.com/achach2/project-domain-prompts.git/': The requested URL returned error: 403\n"
          ]
        }
      ],
      "source": [
        "!git push https://achach2:<key>@github.com/achach2/project-domain-prompts.git"
      ]
    },
    {
      "cell_type": "code",
      "execution_count": null,
      "metadata": {
        "colab": {
          "base_uri": "https://localhost:8080/"
        },
        "id": "PpFsn056Dihs",
        "outputId": "86fcb8c4-3ad4-46ce-dfd6-3cdf119717c1"
      },
      "outputs": [
        {
          "name": "stdout",
          "output_type": "stream",
          "text": [
            "origin\thttps://github.com/achach2/project-domain-prompts.git (fetch)\n",
            "origin\thttps://github.com/achach2/project-domain-prompts.git (push)\n"
          ]
        }
      ],
      "source": [
        "!git remote -v"
      ]
    },
    {
      "cell_type": "code",
      "execution_count": null,
      "metadata": {
        "id": "2RrN75WW2CVD"
      },
      "outputs": [],
      "source": [
        "## Test the IO process\n",
        "\n",
        "# Define a path on your Google Drive to save files\n",
        "import os\n",
        "\n",
        "# Create a folder in your Google Drive (change the path if you want)\n",
        "# save_path = '/content/drive/My Drive/domain-prompting'\n",
        "save_path = \"/content/drive/My Drive/domain-prompting/experiments/experiment-output\"\n",
        "\n",
        "os.makedirs(save_path, exist_ok=True)\n",
        "\n",
        "# Save a text file there\n",
        "file_path = os.path.join(save_path, 'example_output.txt')\n",
        "\n",
        "with open(file_path, 'w') as f:\n",
        "    f.write(\"This file is now stored in Google Drive!\\n\")\n",
        "    f.write(\"It will persist even if the Colab session ends.\")\n",
        "\n",
        "print(f\"File saved at: {file_path}\")\n"
      ]
    },
    {
      "cell_type": "code",
      "execution_count": null,
      "metadata": {
        "id": "M_di5qDYJN3F"
      },
      "outputs": [],
      "source": [
        "## Test connetion to LLM API\n",
        "import openai\n",
        "\n",
        "my_key = \"\"\n",
        "\n",
        "# response = openai.ChatCompletion.create(\n",
        "#   model=\"gpt-4\",\n",
        "#   messages=[\n",
        "#     {\"role\": \"system\", \"content\": \"You are a helpful assistant.\"},\n",
        "#     {\"role\": \"user\", \"content\": \"what is model risk management?\"}\n",
        "#   ]\n",
        "# )\n",
        "\n",
        "# print(response.choices[0].message[\"content\"])\n",
        "\n",
        "import openai\n",
        "\n",
        "client = openai.OpenAI(api_key=my_key)  # Use your key here\n",
        "\n",
        "response = client.chat.completions.create(\n",
        "    model=\"gpt-4\",\n",
        "    messages=[\n",
        "        {\"role\": \"system\", \"content\": \"You are a quantitative analyst.\"},\n",
        "        {\"role\": \"user\", \"content\": \"Tell me about model risk management.\"}\n",
        "    ]\n",
        ")\n",
        "\n",
        "print(response.choices[0].message.content)"
      ]
    },
    {
      "cell_type": "code",
      "execution_count": null,
      "metadata": {
        "id": "QgYqGvAhAdSM"
      },
      "outputs": [],
      "source": []
    }
  ],
  "metadata": {
    "colab": {
      "provenance": []
    },
    "kernelspec": {
      "display_name": "Python 3",
      "language": "python",
      "name": "python3"
    },
    "language_info": {
      "codemirror_mode": {
        "name": "ipython",
        "version": 3
      },
      "file_extension": ".py",
      "mimetype": "text/x-python",
      "name": "python",
      "nbconvert_exporter": "python",
      "pygments_lexer": "ipython3",
      "version": "3.8.10"
    }
  },
  "nbformat": 4,
  "nbformat_minor": 0
}